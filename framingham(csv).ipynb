{
 "cells": [
  {
   "cell_type": "code",
   "execution_count": 47,
   "id": "f6aa8d90-fcff-4c4f-ba31-de917ad23c16",
   "metadata": {
    "tags": []
   },
   "outputs": [],
   "source": [
    "import pandas as pd\n",
    "import numpy as np\n",
    "\n",
    "import matplotlib.pyplot as plt\n",
    "from matplotlib import style\n",
    "import seaborn as sns\n",
    "\n",
    "from sklearn.linear_model import LogisticRegression\n",
    "from sklearn.model_selection import train_test_split\n",
    "from sklearn.metrics import accuracy_score\n",
    "import statsmodels.api as sm\n",
    "import statsmodels.formula.api as smf\n",
    "from statsmodels.stats.weightstats import ttest_ind\n",
    "\n",
    "plt.rcParams['image.cmap'] = \"bwr\"\n",
    "plt.rcParams['figure.dpi'] = \"100\"\n",
    "plt.rcParams['savefig.bbox'] = \"tight\"\n",
    "style.use('ggplot') or plt.style.use('ggplot')\n",
    "\n",
    "import warnings\n",
    "warnings.filterwarnings('ignore')"
   ]
  },
  {
   "cell_type": "code",
   "execution_count": 48,
   "id": "42119b76-7908-40f6-bf0a-61897686827f",
   "metadata": {
    "tags": []
   },
   "outputs": [],
   "source": [
    "data02 = pd.read_csv(filepath_or_buffer = \"C:/Yoshinon/Variedades/Universidad 100% real vol 2/Analisis de datos/Tarea 2/framingham.csv\")"
   ]
  },
  {
   "cell_type": "code",
   "execution_count": 49,
   "id": "b0a5f6e2-be72-439d-a98c-123c7d93398c",
   "metadata": {
    "tags": []
   },
   "outputs": [
    {
     "data": {
      "text/html": [
       "<div>\n",
       "<style scoped>\n",
       "    .dataframe tbody tr th:only-of-type {\n",
       "        vertical-align: middle;\n",
       "    }\n",
       "\n",
       "    .dataframe tbody tr th {\n",
       "        vertical-align: top;\n",
       "    }\n",
       "\n",
       "    .dataframe thead th {\n",
       "        text-align: right;\n",
       "    }\n",
       "</style>\n",
       "<table border=\"1\" class=\"dataframe\">\n",
       "  <thead>\n",
       "    <tr style=\"text-align: right;\">\n",
       "      <th></th>\n",
       "      <th>male</th>\n",
       "      <th>age</th>\n",
       "      <th>education</th>\n",
       "      <th>currentSmoker</th>\n",
       "      <th>cigsPerDay</th>\n",
       "      <th>BPMeds</th>\n",
       "      <th>prevalentStroke</th>\n",
       "      <th>prevalentHyp</th>\n",
       "      <th>diabetes</th>\n",
       "      <th>totChol</th>\n",
       "      <th>sysBP</th>\n",
       "      <th>diaBP</th>\n",
       "      <th>BMI</th>\n",
       "      <th>heartRate</th>\n",
       "      <th>glucose</th>\n",
       "      <th>TenYearCHD</th>\n",
       "    </tr>\n",
       "  </thead>\n",
       "  <tbody>\n",
       "    <tr>\n",
       "      <th>0</th>\n",
       "      <td>1</td>\n",
       "      <td>39</td>\n",
       "      <td>4.0</td>\n",
       "      <td>0</td>\n",
       "      <td>0.0</td>\n",
       "      <td>0.0</td>\n",
       "      <td>0</td>\n",
       "      <td>0</td>\n",
       "      <td>0</td>\n",
       "      <td>195.0</td>\n",
       "      <td>106.0</td>\n",
       "      <td>70.0</td>\n",
       "      <td>26.97</td>\n",
       "      <td>80.0</td>\n",
       "      <td>77.0</td>\n",
       "      <td>0</td>\n",
       "    </tr>\n",
       "    <tr>\n",
       "      <th>1</th>\n",
       "      <td>0</td>\n",
       "      <td>46</td>\n",
       "      <td>2.0</td>\n",
       "      <td>0</td>\n",
       "      <td>0.0</td>\n",
       "      <td>0.0</td>\n",
       "      <td>0</td>\n",
       "      <td>0</td>\n",
       "      <td>0</td>\n",
       "      <td>250.0</td>\n",
       "      <td>121.0</td>\n",
       "      <td>81.0</td>\n",
       "      <td>28.73</td>\n",
       "      <td>95.0</td>\n",
       "      <td>76.0</td>\n",
       "      <td>0</td>\n",
       "    </tr>\n",
       "    <tr>\n",
       "      <th>2</th>\n",
       "      <td>1</td>\n",
       "      <td>48</td>\n",
       "      <td>1.0</td>\n",
       "      <td>1</td>\n",
       "      <td>20.0</td>\n",
       "      <td>0.0</td>\n",
       "      <td>0</td>\n",
       "      <td>0</td>\n",
       "      <td>0</td>\n",
       "      <td>245.0</td>\n",
       "      <td>127.5</td>\n",
       "      <td>80.0</td>\n",
       "      <td>25.34</td>\n",
       "      <td>75.0</td>\n",
       "      <td>70.0</td>\n",
       "      <td>0</td>\n",
       "    </tr>\n",
       "    <tr>\n",
       "      <th>3</th>\n",
       "      <td>0</td>\n",
       "      <td>61</td>\n",
       "      <td>3.0</td>\n",
       "      <td>1</td>\n",
       "      <td>30.0</td>\n",
       "      <td>0.0</td>\n",
       "      <td>0</td>\n",
       "      <td>1</td>\n",
       "      <td>0</td>\n",
       "      <td>225.0</td>\n",
       "      <td>150.0</td>\n",
       "      <td>95.0</td>\n",
       "      <td>28.58</td>\n",
       "      <td>65.0</td>\n",
       "      <td>103.0</td>\n",
       "      <td>1</td>\n",
       "    </tr>\n",
       "    <tr>\n",
       "      <th>4</th>\n",
       "      <td>0</td>\n",
       "      <td>46</td>\n",
       "      <td>3.0</td>\n",
       "      <td>1</td>\n",
       "      <td>23.0</td>\n",
       "      <td>0.0</td>\n",
       "      <td>0</td>\n",
       "      <td>0</td>\n",
       "      <td>0</td>\n",
       "      <td>285.0</td>\n",
       "      <td>130.0</td>\n",
       "      <td>84.0</td>\n",
       "      <td>23.10</td>\n",
       "      <td>85.0</td>\n",
       "      <td>85.0</td>\n",
       "      <td>0</td>\n",
       "    </tr>\n",
       "  </tbody>\n",
       "</table>\n",
       "</div>"
      ],
      "text/plain": [
       "   male  age  education  currentSmoker  cigsPerDay  BPMeds  prevalentStroke  \\\n",
       "0     1   39        4.0              0         0.0     0.0                0   \n",
       "1     0   46        2.0              0         0.0     0.0                0   \n",
       "2     1   48        1.0              1        20.0     0.0                0   \n",
       "3     0   61        3.0              1        30.0     0.0                0   \n",
       "4     0   46        3.0              1        23.0     0.0                0   \n",
       "\n",
       "   prevalentHyp  diabetes  totChol  sysBP  diaBP    BMI  heartRate  glucose  \\\n",
       "0             0         0    195.0  106.0   70.0  26.97       80.0     77.0   \n",
       "1             0         0    250.0  121.0   81.0  28.73       95.0     76.0   \n",
       "2             0         0    245.0  127.5   80.0  25.34       75.0     70.0   \n",
       "3             1         0    225.0  150.0   95.0  28.58       65.0    103.0   \n",
       "4             0         0    285.0  130.0   84.0  23.10       85.0     85.0   \n",
       "\n",
       "   TenYearCHD  \n",
       "0           0  \n",
       "1           0  \n",
       "2           0  \n",
       "3           1  \n",
       "4           0  "
      ]
     },
     "execution_count": 49,
     "metadata": {},
     "output_type": "execute_result"
    }
   ],
   "source": [
    "data02.head()"
   ]
  },
  {
   "cell_type": "code",
   "execution_count": 50,
   "id": "4b131a70-b981-41a5-9d37-2d7d1e2a83eb",
   "metadata": {
    "tags": []
   },
   "outputs": [
    {
     "data": {
      "text/plain": [
       "0    2419\n",
       "1    1819\n",
       "Name: male, dtype: int64"
      ]
     },
     "execution_count": 50,
     "metadata": {},
     "output_type": "execute_result"
    }
   ],
   "source": [
    "data02.male.value_counts().sort_index()"
   ]
  },
  {
   "cell_type": "code",
   "execution_count": 51,
   "id": "d2607c41-93bc-4a48-8600-a2fc1f70d0be",
   "metadata": {
    "tags": []
   },
   "outputs": [
    {
     "data": {
      "image/png": "[encoded data removed]",
      "text/plain": [
       "<Figure size 1000x400 with 1 Axes>"
      ]
     },
     "metadata": {},
     "output_type": "display_data"
    }
   ],
   "source": [
    "fig, ax = plt.subplots(figsize=(10, 4))\n",
    "\n",
    "sns.violinplot(\n",
    "        x     = 'male',\n",
    "        y     = 'age',\n",
    "        data  = data02,\n",
    "        ax    = ax\n",
    "    )\n",
    "\n",
    "ax.set_title('Distribución notas de hombres por edad');"
   ]
  },
  {
   "cell_type": "code",
   "execution_count": 52,
   "id": "eb842e61-22c4-4f59-9082-4b1c300436c2",
   "metadata": {
    "tags": []
   },
   "outputs": [
    {
     "data": {
      "text/html": [
       "<style>#sk-container-id-5 {color: black;}#sk-container-id-5 pre{padding: 0;}#sk-container-id-5 div.sk-toggleable {background-color: white;}#sk-container-id-5 label.sk-toggleable__label {cursor: pointer;display: block;width: 100%;margin-bottom: 0;padding: 0.3em;box-sizing: border-box;text-align: center;}#sk-container-id-5 label.sk-toggleable__label-arrow:before {content: \"▸\";float: left;margin-right: 0.25em;color: #696969;}#sk-container-id-5 label.sk-toggleable__label-arrow:hover:before {color: black;}#sk-container-id-5 div.sk-estimator:hover label.sk-toggleable__label-arrow:before {color: black;}#sk-container-id-5 div.sk-toggleable__content {max-height: 0;max-width: 0;overflow: hidden;text-align: left;background-color: #f0f8ff;}#sk-container-id-5 div.sk-toggleable__content pre {margin: 0.2em;color: black;border-radius: 0.25em;background-color: #f0f8ff;}#sk-container-id-5 input.sk-toggleable__control:checked~div.sk-toggleable__content {max-height: 200px;max-width: 100%;overflow: auto;}#sk-container-id-5 input.sk-toggleable__control:checked~label.sk-toggleable__label-arrow:before {content: \"▾\";}#sk-container-id-5 div.sk-estimator input.sk-toggleable__control:checked~label.sk-toggleable__label {background-color: #d4ebff;}#sk-container-id-5 div.sk-label input.sk-toggleable__control:checked~label.sk-toggleable__label {background-color: #d4ebff;}#sk-container-id-5 input.sk-hidden--visually {border: 0;clip: rect(1px 1px 1px 1px);clip: rect(1px, 1px, 1px, 1px);height: 1px;margin: -1px;overflow: hidden;padding: 0;position: absolute;width: 1px;}#sk-container-id-5 div.sk-estimator {font-family: monospace;background-color: #f0f8ff;border: 1px dotted black;border-radius: 0.25em;box-sizing: border-box;margin-bottom: 0.5em;}#sk-container-id-5 div.sk-estimator:hover {background-color: #d4ebff;}#sk-container-id-5 div.sk-parallel-item::after {content: \"\";width: 100%;border-bottom: 1px solid gray;flex-grow: 1;}#sk-container-id-5 div.sk-label:hover label.sk-toggleable__label {background-color: #d4ebff;}#sk-container-id-5 div.sk-serial::before {content: \"\";position: absolute;border-left: 1px solid gray;box-sizing: border-box;top: 0;bottom: 0;left: 50%;z-index: 0;}#sk-container-id-5 div.sk-serial {display: flex;flex-direction: column;align-items: center;background-color: white;padding-right: 0.2em;padding-left: 0.2em;position: relative;}#sk-container-id-5 div.sk-item {position: relative;z-index: 1;}#sk-container-id-5 div.sk-parallel {display: flex;align-items: stretch;justify-content: center;background-color: white;position: relative;}#sk-container-id-5 div.sk-item::before, #sk-container-id-5 div.sk-parallel-item::before {content: \"\";position: absolute;border-left: 1px solid gray;box-sizing: border-box;top: 0;bottom: 0;left: 50%;z-index: -1;}#sk-container-id-5 div.sk-parallel-item {display: flex;flex-direction: column;z-index: 1;position: relative;background-color: white;}#sk-container-id-5 div.sk-parallel-item:first-child::after {align-self: flex-end;width: 50%;}#sk-container-id-5 div.sk-parallel-item:last-child::after {align-self: flex-start;width: 50%;}#sk-container-id-5 div.sk-parallel-item:only-child::after {width: 0;}#sk-container-id-5 div.sk-dashed-wrapped {border: 1px dashed gray;margin: 0 0.4em 0.5em 0.4em;box-sizing: border-box;padding-bottom: 0.4em;background-color: white;}#sk-container-id-5 div.sk-label label {font-family: monospace;font-weight: bold;display: inline-block;line-height: 1.2em;}#sk-container-id-5 div.sk-label-container {text-align: center;}#sk-container-id-5 div.sk-container {/* jupyter's `normalize.less` sets `[hidden] { display: none; }` but bootstrap.min.css set `[hidden] { display: none !important; }` so we also need the `!important` here to be able to override the default hidden behavior on the sphinx rendered scikit-learn.org. See: https://github.com/scikit-learn/scikit-learn/issues/21755 */display: inline-block !important;position: relative;}#sk-container-id-5 div.sk-text-repr-fallback {display: none;}</style><div id=\"sk-container-id-5\" class=\"sk-top-container\"><div class=\"sk-text-repr-fallback\"><pre>LogisticRegression(penalty=&#x27;none&#x27;)</pre><b>In a Jupyter environment, please rerun this cell to show the HTML representation or trust the notebook. <br />On GitHub, the HTML representation is unable to render, please try loading this page with nbviewer.org.</b></div><div class=\"sk-container\" hidden><div class=\"sk-item\"><div class=\"sk-estimator sk-toggleable\"><input class=\"sk-toggleable__control sk-hidden--visually\" id=\"sk-estimator-id-5\" type=\"checkbox\" checked><label for=\"sk-estimator-id-5\" class=\"sk-toggleable__label sk-toggleable__label-arrow\">LogisticRegression</label><div class=\"sk-toggleable__content\"><pre>LogisticRegression(penalty=&#x27;none&#x27;)</pre></div></div></div></div></div>"
      ],
      "text/plain": [
       "LogisticRegression(penalty='none')"
      ]
     },
     "execution_count": 52,
     "metadata": {},
     "output_type": "execute_result"
    }
   ],
   "source": [
    "X = data02[['male']]\n",
    "y = data02['age']\n",
    "\n",
    "X_train, X_test, y_train, y_test = train_test_split(\n",
    "                                        X.values.reshape(-1,1),\n",
    "                                        y.values.reshape(-1,1),\n",
    "                                        train_size   = 0.8,\n",
    "                                        random_state = 1234,\n",
    "                                        shuffle      = True\n",
    "                                    )\n",
    "modelo = LogisticRegression(penalty='none')\n",
    "modelo.fit(X = X_train.reshape(-1, 1), y = y_train)"
   ]
  },
  {
   "cell_type": "code",
   "execution_count": 53,
   "id": "ddf82ec4-6218-4334-b34e-95d1fa19c9db",
   "metadata": {
    "tags": []
   },
   "outputs": [
    {
     "name": "stdout",
     "output_type": "stream",
     "text": [
      "Intercept: [-3.53807629 -2.45103694 -1.24749127 -0.40967664 -0.14324814  0.14460067\n",
      "  0.51580242  0.82419745  0.99791304  0.84907692  0.79884981  0.71764875\n",
      "  0.77306374  0.75912998  0.96631492  0.65995374  0.61440119  0.64492353\n",
      "  0.58233273  0.73194239  0.56623935  0.62968115  0.515663    0.86231915\n",
      "  0.61415575  0.48058207  0.40656737  0.68936271  0.30531318  0.38694885\n",
      "  0.19341598  0.51572035  0.23985645 -0.14385272 -0.45216481 -0.45370061\n",
      " -2.16410218 -2.44455076 -3.53807629]\n",
      "Coeficiente: [('male', -6.501793236191675)]\n",
      "Accuracy de entrenamiento: 0.04672015101462954\n"
     ]
    }
   ],
   "source": [
    "print(\"Intercept:\", modelo.intercept_)\n",
    "print(\"Coeficiente:\", list(zip(X.columns, modelo.coef_.flatten(), )))\n",
    "print(\"Accuracy de entrenamiento:\", modelo.score(X, y))"
   ]
  },
  {
   "cell_type": "code",
   "execution_count": 54,
   "id": "35edfdef-7758-40fd-80e1-18cdd2d61f2a",
   "metadata": {
    "tags": []
   },
   "outputs": [
    {
     "data": {
      "text/html": [
       "<div>\n",
       "<style scoped>\n",
       "    .dataframe tbody tr th:only-of-type {\n",
       "        vertical-align: middle;\n",
       "    }\n",
       "\n",
       "    .dataframe tbody tr th {\n",
       "        vertical-align: top;\n",
       "    }\n",
       "\n",
       "    .dataframe thead th {\n",
       "        text-align: right;\n",
       "    }\n",
       "</style>\n",
       "<table border=\"1\" class=\"dataframe\">\n",
       "  <thead>\n",
       "    <tr style=\"text-align: right;\">\n",
       "      <th></th>\n",
       "      <th>32</th>\n",
       "      <th>33</th>\n",
       "      <th>34</th>\n",
       "      <th>35</th>\n",
       "      <th>36</th>\n",
       "      <th>37</th>\n",
       "      <th>38</th>\n",
       "      <th>39</th>\n",
       "      <th>40</th>\n",
       "      <th>41</th>\n",
       "      <th>...</th>\n",
       "      <th>61</th>\n",
       "      <th>62</th>\n",
       "      <th>63</th>\n",
       "      <th>64</th>\n",
       "      <th>65</th>\n",
       "      <th>66</th>\n",
       "      <th>67</th>\n",
       "      <th>68</th>\n",
       "      <th>69</th>\n",
       "      <th>70</th>\n",
       "    </tr>\n",
       "  </thead>\n",
       "  <tbody>\n",
       "    <tr>\n",
       "      <th>0</th>\n",
       "      <td>5.457219e-07</td>\n",
       "      <td>0.001415</td>\n",
       "      <td>0.003541</td>\n",
       "      <td>0.008441</td>\n",
       "      <td>0.022515</td>\n",
       "      <td>0.025326</td>\n",
       "      <td>0.037305</td>\n",
       "      <td>0.038700</td>\n",
       "      <td>0.044295</td>\n",
       "      <td>0.039406</td>\n",
       "      <td>...</td>\n",
       "      <td>0.022522</td>\n",
       "      <td>0.023213</td>\n",
       "      <td>0.023928</td>\n",
       "      <td>0.021103</td>\n",
       "      <td>0.011966</td>\n",
       "      <td>0.007044</td>\n",
       "      <td>0.010555</td>\n",
       "      <td>0.007048</td>\n",
       "      <td>0.002108</td>\n",
       "      <td>5.457219e-07</td>\n",
       "    </tr>\n",
       "    <tr>\n",
       "      <th>1</th>\n",
       "      <td>5.457219e-07</td>\n",
       "      <td>0.001415</td>\n",
       "      <td>0.003541</td>\n",
       "      <td>0.008441</td>\n",
       "      <td>0.022515</td>\n",
       "      <td>0.025326</td>\n",
       "      <td>0.037305</td>\n",
       "      <td>0.038700</td>\n",
       "      <td>0.044295</td>\n",
       "      <td>0.039406</td>\n",
       "      <td>...</td>\n",
       "      <td>0.022522</td>\n",
       "      <td>0.023213</td>\n",
       "      <td>0.023928</td>\n",
       "      <td>0.021103</td>\n",
       "      <td>0.011966</td>\n",
       "      <td>0.007044</td>\n",
       "      <td>0.010555</td>\n",
       "      <td>0.007048</td>\n",
       "      <td>0.002108</td>\n",
       "      <td>5.457219e-07</td>\n",
       "    </tr>\n",
       "    <tr>\n",
       "      <th>2</th>\n",
       "      <td>5.112957e-04</td>\n",
       "      <td>0.001516</td>\n",
       "      <td>0.005052</td>\n",
       "      <td>0.011677</td>\n",
       "      <td>0.015241</td>\n",
       "      <td>0.020325</td>\n",
       "      <td>0.029461</td>\n",
       "      <td>0.040104</td>\n",
       "      <td>0.047712</td>\n",
       "      <td>0.041114</td>\n",
       "      <td>...</td>\n",
       "      <td>0.025899</td>\n",
       "      <td>0.021342</td>\n",
       "      <td>0.029459</td>\n",
       "      <td>0.022357</td>\n",
       "      <td>0.015232</td>\n",
       "      <td>0.011191</td>\n",
       "      <td>0.011174</td>\n",
       "      <td>0.002020</td>\n",
       "      <td>0.001526</td>\n",
       "      <td>5.112957e-04</td>\n",
       "    </tr>\n",
       "  </tbody>\n",
       "</table>\n",
       "<p>3 rows × 39 columns</p>\n",
       "</div>"
      ],
      "text/plain": [
       "             32        33        34        35        36        37        38  \\\n",
       "0  5.457219e-07  0.001415  0.003541  0.008441  0.022515  0.025326  0.037305   \n",
       "1  5.457219e-07  0.001415  0.003541  0.008441  0.022515  0.025326  0.037305   \n",
       "2  5.112957e-04  0.001516  0.005052  0.011677  0.015241  0.020325  0.029461   \n",
       "\n",
       "         39        40        41  ...        61        62        63        64  \\\n",
       "0  0.038700  0.044295  0.039406  ...  0.022522  0.023213  0.023928  0.021103   \n",
       "1  0.038700  0.044295  0.039406  ...  0.022522  0.023213  0.023928  0.021103   \n",
       "2  0.040104  0.047712  0.041114  ...  0.025899  0.021342  0.029459  0.022357   \n",
       "\n",
       "         65        66        67        68        69            70  \n",
       "0  0.011966  0.007044  0.010555  0.007048  0.002108  5.457219e-07  \n",
       "1  0.011966  0.007044  0.010555  0.007048  0.002108  5.457219e-07  \n",
       "2  0.015232  0.011191  0.011174  0.002020  0.001526  5.112957e-04  \n",
       "\n",
       "[3 rows x 39 columns]"
      ]
     },
     "execution_count": 54,
     "metadata": {},
     "output_type": "execute_result"
    }
   ],
   "source": [
    "predicciones = modelo.predict_proba(X = X_test)\n",
    "predicciones = pd.DataFrame(predicciones, columns = modelo.classes_)\n",
    "predicciones.head(3)"
   ]
  },
  {
   "cell_type": "code",
   "execution_count": 41,
   "id": "aa02b6d9-40f0-402e-8b7b-4b7b1e032357",
   "metadata": {
    "tags": []
   },
   "outputs": [
    {
     "data": {
      "text/plain": [
       "array([44, 44, 40, 44, 40, 44, 40, 44, 40, 40, 40, 40, 40, 40, 40, 44, 40,\n",
       "       44, 40, 40, 40, 44, 40, 40, 40, 44, 40, 40, 44, 44, 44, 40, 44, 44,\n",
       "       44, 40, 40, 44, 44, 40, 44, 44, 40, 44, 40, 44, 44, 44, 40, 44, 44,\n",
       "       44, 40, 40, 44, 44, 40, 40, 40, 40, 44, 40, 40, 44, 40, 40, 44, 40,\n",
       "       44, 40, 40, 40, 40, 40, 40, 44, 40, 40, 40, 44, 40, 40, 44, 40, 44,\n",
       "       40, 44, 40, 40, 40, 40, 44, 44, 40, 40, 40, 40, 44, 40, 44, 40, 44,\n",
       "       44, 44, 44, 44, 44, 44, 40, 44, 40, 44, 40, 44, 44, 40, 44, 44, 40,\n",
       "       44, 44, 40, 40, 40, 40, 40, 40, 40, 44, 40, 40, 40, 44, 40, 44, 44,\n",
       "       44, 40, 44, 40, 40, 44, 40, 40, 40, 44, 44, 44, 40, 44, 40, 44, 40,\n",
       "       40, 40, 44, 40, 40, 40, 40, 40, 40, 44, 40, 40, 44, 44, 44, 44, 40,\n",
       "       40, 40, 44, 40, 44, 40, 44, 40, 44, 44, 44, 40, 40, 44, 40, 44, 44,\n",
       "       44, 44, 44, 44, 44, 40, 40, 40, 40, 44, 40, 44, 44, 40, 40, 44, 40,\n",
       "       40, 40, 44, 44, 44, 44, 44, 40, 40, 44, 40, 44, 44, 40, 44, 40, 40,\n",
       "       40, 40, 44, 40, 40, 44, 40, 40, 40, 40, 40, 40, 40, 40, 40, 44, 40,\n",
       "       40, 40, 44, 44, 40, 44, 44, 44, 44, 44, 40, 40, 40, 40, 44, 40, 40,\n",
       "       40, 40, 40, 40, 40, 44, 40, 40, 40, 40, 40, 44, 44, 40, 44, 40, 40,\n",
       "       40, 44, 44, 44, 44, 40, 44, 40, 40, 44, 44, 44, 40, 40, 44, 40, 44,\n",
       "       44, 40, 40, 44, 44, 44, 44, 44, 40, 40, 40, 44, 44, 44, 44, 44, 40,\n",
       "       44, 40, 44, 40, 40, 44, 40, 40, 40, 44, 44, 44, 40, 44, 44, 40, 40,\n",
       "       40, 40, 44, 40, 40, 40, 44, 44, 44, 44, 40, 40, 40, 44, 44, 44, 40,\n",
       "       40, 44, 44, 40, 40, 44, 40, 40, 40, 40, 40, 40, 40, 40, 40, 40, 40,\n",
       "       44, 40, 40, 40, 40, 40, 40, 40, 40, 40, 44, 40, 40, 44, 40, 40, 40,\n",
       "       44, 44, 44, 40, 44, 40, 40, 40, 40, 44, 44, 44, 40, 44, 44, 44, 44,\n",
       "       40, 40, 44, 44, 44, 40, 44, 44, 44, 44, 44, 40, 44, 44, 44, 40, 44,\n",
       "       40, 40, 40, 40, 40, 40, 44, 44, 40, 40, 40, 44, 44, 44, 44, 44, 40,\n",
       "       44, 40, 40, 44, 40, 44, 44, 40, 44, 40, 44, 44, 44, 40, 40, 40, 44,\n",
       "       44, 44, 44, 40, 40, 44, 40, 40, 44, 40, 40, 40, 44, 40, 44, 40, 40,\n",
       "       44, 40, 40, 44, 44, 44, 44, 44, 44, 40, 40, 44, 44, 40, 40, 44, 40,\n",
       "       44, 44, 40, 40, 44, 40, 40, 44, 40, 44, 44, 44, 40, 44, 40, 44, 40,\n",
       "       40, 40, 40, 44, 44, 44, 40, 40, 44, 40, 40, 44, 44, 40, 44, 44, 40,\n",
       "       40, 40, 44, 40, 40, 44, 44, 44, 40, 44, 44, 40, 40, 44, 44, 44, 40,\n",
       "       40, 44, 40, 40, 44, 40, 40, 40, 40, 44, 40, 40, 40, 40, 44, 40, 40,\n",
       "       44, 40, 44, 44, 40, 44, 40, 44, 44, 44, 44, 40, 40, 40, 44, 40, 40,\n",
       "       40, 40, 40, 40, 44, 40, 40, 44, 44, 40, 44, 40, 44, 44, 40, 40, 44,\n",
       "       40, 44, 40, 44, 44, 40, 44, 40, 44, 40, 44, 44, 40, 44, 40, 40, 44,\n",
       "       40, 40, 40, 40, 40, 40, 44, 40, 44, 44, 40, 44, 44, 40, 40, 40, 40,\n",
       "       40, 44, 40, 40, 44, 40, 40, 40, 40, 40, 44, 44, 40, 44, 40, 44, 40,\n",
       "       44, 40, 44, 44, 44, 44, 44, 40, 40, 44, 40, 44, 40, 40, 44, 40, 40,\n",
       "       40, 44, 40, 40, 44, 40, 44, 40, 44, 44, 44, 40, 44, 40, 44, 40, 44,\n",
       "       40, 44, 40, 40, 44, 44, 40, 44, 40, 44, 44, 40, 44, 40, 44, 44, 44,\n",
       "       44, 40, 40, 40, 44, 40, 44, 44, 44, 44, 44, 40, 40, 40, 44, 44, 40,\n",
       "       40, 40, 44, 40, 40, 40, 44, 40, 40, 40, 44, 44, 44, 40, 40, 44, 40,\n",
       "       40, 40, 40, 44, 44, 40, 44, 40, 40, 44, 40, 44, 44, 44, 44, 44, 44,\n",
       "       44, 40, 44, 44, 44, 44, 44, 40, 44, 44, 44, 44, 40, 44, 40, 40, 44,\n",
       "       44, 44, 44, 40, 40, 40, 44, 40, 44, 40, 44, 44, 40, 40, 44, 40, 44,\n",
       "       40, 40, 44, 40, 40, 44, 44, 44, 40, 44, 40, 40, 44, 44, 40, 44, 40,\n",
       "       44, 44, 40, 40, 44, 40, 40, 44, 40, 44, 40, 44, 44, 44, 44, 40, 44,\n",
       "       44, 40, 40, 40, 44, 40, 40, 40, 40, 44, 40, 40, 44, 40, 44, 44, 44,\n",
       "       44, 40, 44, 44, 40, 40, 44, 40, 44, 40, 40, 44, 44, 40, 40, 44, 44,\n",
       "       44, 40, 44, 40, 44, 44, 44, 40, 40, 44, 44, 44, 40, 40, 44],\n",
       "      dtype=int64)"
      ]
     },
     "execution_count": 41,
     "metadata": {},
     "output_type": "execute_result"
    }
   ],
   "source": [
    "predicciones = modelo.predict(X = X_test)\n",
    "predicciones"
   ]
  },
  {
   "cell_type": "code",
   "execution_count": null,
   "id": "28c9e6cb-23c0-4ba3-a603-d595f64e0aee",
   "metadata": {},
   "outputs": [],
   "source": []
  }
 ],
 "metadata": {
  "kernelspec": {
   "display_name": "Python 3 (ipykernel)",
   "language": "python",
   "name": "python3"
  },
  "language_info": {
   "codemirror_mode": {
    "name": "ipython",
    "version": 3
   },
   "file_extension": ".py",
   "mimetype": "text/x-python",
   "name": "python",
   "nbconvert_exporter": "python",
   "pygments_lexer": "ipython3",
   "version": "3.11.4"
  }
 },
 "nbformat": 4,
 "nbformat_minor": 5
}
